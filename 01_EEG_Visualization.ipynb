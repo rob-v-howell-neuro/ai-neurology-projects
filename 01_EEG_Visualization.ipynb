{
 "cells": [
  {
   "cell_type": "markdown",
   "id": "a60586ce",
   "metadata": {},
   "source": [
    "\n",
    "# 01 — EEG Visualization & Simple Spectral Analysis\n",
    "\n",
    "**Goal:** Provide a minimal, well-documented example to visualize an EEG-like signal and compute a simple spectral analysis (FFT & bandpower).  \n",
    "**Why:** Recruiters and collaborators should see a working, readable notebook on day one.\n",
    "\n",
    "> This notebook uses a *synthetic* EEG-like signal (no protected health data). You can later replace the synthetic generator with a real dataset loader.\n"
   ]
  },
  {
   "cell_type": "code",
   "execution_count": null,
   "id": "a2cbe95e",
   "metadata": {},
   "outputs": [],
   "source": [
    "\n",
    "# Imports (no internet needed)\n",
    "import numpy as np\n",
    "import matplotlib.pyplot as plt\n",
    "\n",
    "# Utility: ensure plots are inline in Jupyter\n",
    "# (Most Jupyter environments default to inline. Left here for clarity.)\n",
    "# %matplotlib inline\n"
   ]
  },
  {
   "cell_type": "markdown",
   "id": "9e31decb",
   "metadata": {},
   "source": [
    "\n",
    "## 1. Generate an EEG-like signal (synthetic)\n",
    "\n",
    "We simulate 10 seconds at 256 Hz, mixing common EEG rhythms:\n",
    "- Delta (2 Hz), Theta (6 Hz), Alpha (10 Hz), Beta (20 Hz), plus a weak 60 Hz interference.\n",
    "- Add Gaussian noise to resemble real-world recordings.\n"
   ]
  },
  {
   "cell_type": "code",
   "execution_count": null,
   "id": "5dba6586",
   "metadata": {},
   "outputs": [],
   "source": [
    "\n",
    "fs = 256            # Sampling frequency (Hz)\n",
    "duration = 10       # seconds\n",
    "t = np.arange(0, duration, 1/fs)\n",
    "\n",
    "# Component amplitudes (arbitrary units)\n",
    "amp_delta = 20.0\n",
    "amp_theta = 10.0\n",
    "amp_alpha = 15.0\n",
    "amp_beta  = 8.0\n",
    "amp_line  = 2.0     # 60 Hz line noise\n",
    "\n",
    "# Build components\n",
    "delta = amp_delta * np.sin(2*np.pi*2*t)\n",
    "theta = amp_theta * np.sin(2*np.pi*6*t + 0.3)\n",
    "alpha = amp_alpha * np.sin(2*np.pi*10*t + 1.0)\n",
    "beta  = amp_beta  * np.sin(2*np.pi*20*t + 2.0)\n",
    "line  = amp_line  * np.sin(2*np.pi*60*t)\n",
    "\n",
    "# Additive Gaussian noise\n",
    "rng = np.random.default_rng(42)\n",
    "noise = rng.normal(0, 3.0, t.shape)\n",
    "\n",
    "eeg = delta + theta + alpha + beta + line + noise\n",
    "\n",
    "eeg[:10], t[:10]\n"
   ]
  },
  {
   "cell_type": "markdown",
   "id": "1d343bd7",
   "metadata": {},
   "source": [
    "\n",
    "## 2. Plot the time-domain signal\n",
    "\n",
    "We display the first 5 seconds to make patterns easier to see.\n"
   ]
  },
  {
   "cell_type": "code",
   "execution_count": null,
   "id": "fd44237c",
   "metadata": {},
   "outputs": [],
   "source": [
    "\n",
    "seconds_to_show = 5\n",
    "N = int(seconds_to_show * fs)\n",
    "\n",
    "plt.figure(figsize=(10, 4))\n",
    "plt.plot(t[:N], eeg[:N])\n",
    "plt.xlabel(\"Time (s)\")\n",
    "plt.ylabel(\"Amplitude (a.u.)\")\n",
    "plt.title(\"Synthetic EEG-like Signal (first 5 s)\")\n",
    "plt.tight_layout()\n",
    "plt.show()\n"
   ]
  },
  {
   "cell_type": "markdown",
   "id": "751b1ea9",
   "metadata": {},
   "source": [
    "\n",
    "## 3. Compute the amplitude spectrum (FFT)\n",
    "\n",
    "A basic Fast Fourier Transform (FFT) to reveal dominant frequencies.\n"
   ]
  },
  {
   "cell_type": "code",
   "execution_count": null,
   "id": "22edbfca",
   "metadata": {},
   "outputs": [],
   "source": [
    "\n",
    "# Compute one-sided FFT\n",
    "n = len(eeg)\n",
    "freqs = np.fft.rfftfreq(n, d=1/fs)\n",
    "fft_vals = np.fft.rfft(eeg)\n",
    "amp_spectrum = np.abs(fft_vals) * 2 / n  # amplitude scaling\n",
    "\n",
    "plt.figure(figsize=(10, 4))\n",
    "plt.plot(freqs, amp_spectrum)\n",
    "plt.xlim(0, 80)  # focus on 0–80 Hz\n",
    "plt.xlabel(\"Frequency (Hz)\")\n",
    "plt.ylabel(\"Amplitude\")\n",
    "plt.title(\"Amplitude Spectrum (FFT)\")\n",
    "plt.tight_layout()\n",
    "plt.show()\n"
   ]
  },
  {
   "cell_type": "markdown",
   "id": "941d5663",
   "metadata": {},
   "source": [
    "\n",
    "## 4. Simple bandpower\n",
    "\n",
    "A compact function to estimate bandpower by integrating the amplitude spectrum within a frequency band.\n"
   ]
  },
  {
   "cell_type": "code",
   "execution_count": null,
   "id": "917aea38",
   "metadata": {},
   "outputs": [],
   "source": [
    "\n",
    "def bandpower(freqs, amp, fmin, fmax):\n",
    "    \"\"\"Approximate bandpower by integrating the amplitude in [fmin, fmax].\"\"\"\n",
    "    mask = (freqs >= fmin) & (freqs <= fmax)\n",
    "    # Trapezoidal integration\n",
    "    return np.trapz(amp[mask], freqs[mask])\n",
    "\n",
    "bands = {\n",
    "    \"Delta (0.5–4 Hz)\": (0.5, 4),\n",
    "    \"Theta (4–8 Hz)\": (4, 8),\n",
    "    \"Alpha (8–13 Hz)\": (8, 13),\n",
    "    \"Beta (13–30 Hz)\": (13, 30),\n",
    "    \"Line (57–63 Hz)\": (57, 63),\n",
    "}\n",
    "\n",
    "results = {name: bandpower(freqs, amp_spectrum, lo, hi) for name, (lo, hi) in bands.items()}\n",
    "results\n"
   ]
  },
  {
   "cell_type": "markdown",
   "id": "99d35214",
   "metadata": {},
   "source": [
    "\n",
    "## 5. Visualize bandpower\n",
    "\n",
    "A simple bar plot to summarize energy per band.\n"
   ]
  },
  {
   "cell_type": "code",
   "execution_count": null,
   "id": "36988cac",
   "metadata": {},
   "outputs": [],
   "source": [
    "\n",
    "names = list(results.keys())\n",
    "values = [results[k] for k in names]\n",
    "\n",
    "plt.figure(figsize=(8, 4))\n",
    "plt.bar(names, values)\n",
    "plt.ylabel(\"Approx. Bandpower (a.u.)\")\n",
    "plt.title(\"Bandpower by EEG Band\")\n",
    "plt.xticks(rotation=30, ha=\"right\")\n",
    "plt.tight_layout()\n",
    "plt.show()\n"
   ]
  },
  {
   "cell_type": "markdown",
   "id": "ffa3390c",
   "metadata": {},
   "source": [
    "\n",
    "## 6. Replace with real data (when ready)\n",
    "\n",
    "1. Export a single EEG channel (e.g., `.csv` with columns `time, voltage`).\n",
    "2. Replace the synthetic generator with a file loader:\n",
    "   ```python\n",
    "   import pandas as pd\n",
    "   df = pd.read_csv(\"path/to/eeg_channel.csv\")\n",
    "   t = df[\"time\"].to_numpy()\n",
    "   eeg = df[\"voltage\"].to_numpy()\n",
    "   fs = 1.0 / np.mean(np.diff(t))\n",
    "   ```\n",
    "3. Re-run sections **2–5** unchanged.\n"
   ]
  },
  {
   "cell_type": "markdown",
   "id": "25ae0f8f",
   "metadata": {},
   "source": [
    "\n",
    "## 7. Mini roadmap\n",
    "\n",
    "- Add Welch PSD for smoother spectra.\n",
    "- Load open EEG datasets (e.g., TUH, CHB-MIT) and plot multi-channel segments.\n",
    "- Train a simple classifier (e.g., logistic regression or 1D CNN) for normal vs. epileptiform windows.\n",
    "- Wrap utilities into a tiny `eeg_utils.py` module.\n"
   ]
  }
 ],
 "metadata": {
  "kernelspec": {
   "display_name": "Python 3 (ipykernel)",
   "language": "python",
   "name": "python3"
  },
  "language_info": {
   "codemirror_mode": {
    "name": "ipython",
    "version": 3
   },
   "file_extension": ".py",
   "mimetype": "text/x-python",
   "name": "python",
   "nbconvert_exporter": "python",
   "pygments_lexer": "ipython3",
   "version": "3.13.3"
  }
 },
 "nbformat": 4,
 "nbformat_minor": 5
}
